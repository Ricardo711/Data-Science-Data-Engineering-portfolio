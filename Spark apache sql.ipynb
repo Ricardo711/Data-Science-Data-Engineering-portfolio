ht;\n",
       "    }\n",
       "</style>\n",
       "<table border=\"1\" class=\"dataframe\">\n",
       "  <thead>\n",
       "    <tr style=\"text-align: right;\">\n",
       "      <th></th>\n",
       "      <th>Date</th>\n",
       "      <th>Open</th>\n",
       "      <th>High</th>\n",
       "      <th>Low</th>\n",
       "      <th>Close</th>\n",
       "      <th>AdjClose</th>\n",
       "      <th>Volume</th>\n",
       "    </tr>\n",
       "  </thead>\n",
       "  <tbody>\n",
       "    <tr>\n",
       "      <th>0</th>\n",
       "      <td>2019-07-15</td>\n",
       "      <td>2021.400024</td>\n",
       "      <td>2022.900024</td>\n",
       "      <td>2001.550049</td>\n",
       "      <td>2020.989990</td>\n",
       "      <td>2020.989990</td>\n",
       "      <td>2981300</td>\n",
       "    </tr>\n",
       "    <tr>\n",
       "      <th>1</th>\n",
       "      <td>2019-07-16</td>\n",
       "      <td>2010.579956</td>\n",
       "      <td>2026.319946</td>\n",
       "      <td>2001.219971</td>\n",
       "      <td>2009.900024</td>\n",
       "      <td>2009.900024</td>\n",
       "      <td>2618200</td>\n",
       "    </tr>\n",
       "    <tr>\n",
       "      <th>2</th>\n",
       "      <td>2019-07-17</td>\n",
       "      <td>2007.050049</td>\n",
       "      <td>2012.000000</td>\n",
       "      <td>1992.030029</td>\n",
       "      <td>1992.030029</td>\n",
       "      <td>1992.030029</td>\n",
       "      <td>2558800</td>\n",
       "    </tr>\n",
       "    <tr>\n",
       "      <th>3</th>\n",
       "      <td>2019-07-18</td>\n",
       "      <td>1980.010010</td>\n",
       "      <td>1987.500000</td>\n",
       "      <td>1951.550049</td>\n",
       "      <td>1977.900024</td>\n",
       "      <td>1977.900024</td>\n",
       "      <td>3504300</td>\n",
       "    </tr>\n",
       "    <tr>\n",
       "      <th>4</th>\n",
       "      <td>2019-07-19</td>\n",
       "      <td>1991.209961</td>\n",
       "      <td>1996.000000</td>\n",
       "      <td>1962.229980</td>\n",
       "      <td>1964.520020</td>\n",
       "      <td>1964.520020</td>\n",
       "      <td>3185600</td>\n",
       "    </tr>\n",
       "  </tbody>\n",
       "</table>\n",
       "</div>"
      ],
      "text/plain": [
       "         Date         Open         High          Low        Close  \\\n",
       "0  2019-07-15  2021.400024  2022.900024  2001.550049  2020.989990   \n",
       "1  2019-07-16  2010.579956  2026.319946  2001.219971  2009.900024   \n",
       "2  2019-07-17  2007.050049  2012.000000  1992.030029  1992.030029   \n",
       "3  2019-07-18  1980.010010  1987.500000  1951.550049  1977.900024   \n",
       "4  2019-07-19  1991.209961  1996.000000  1962.229980  1964.520020   \n",
       "\n",
       "      AdjClose   Volume  \n",
       "0  2020.989990  2981300  \n",
       "1  2009.900024  2618200  \n",
       "2  1992.030029  2558800  \n",
       "3  1977.900024  3504300  \n",
       "4  1964.520020  3185600  "
      ]
     },
     "execution_count": 11,
     "metadata": {},
     "output_type": "execute_result"
    }
   ],
   "source": [
    "import pandas \n",
    "amazon_df.toPandas().head(5)"
   ]
  },
  {
   "cell_type": "code",
   "execution_count": 12,
   "metadata": {},
   "outputs": [
    {
     "data": {
      "text/html": [
       "<div>\n",
       "<style scoped>\n",
       "    .dataframe tbody tr th:only-of-type {\n",
       "        vertical-align: middle;\n",
       "    }\n",
       "\n",
       "    .dataframe tbody tr th {\n",
       "        vertical-align: top;\n",
       "    }\n",
       "\n",
       "    .dataframe thead th {\n",
       "        text-align: right;\n",
       "    }\n",
       "</style>\n",
       "<table border=\"1\" class=\"dataframe\">\n",
       "  <thead>\n",
       "    <tr style=\"text-align: right;\">\n",
       "      <th></th>\n",
       "      <th>Date</th>\n",
       "      <th>Open</th>\n",
       "      <th>High</th>\n",
       "      <th>Low</th>\n",
       "      <th>Close</th>\n",
       "      <th>AdjClose</th>\n",
       "      <th>Volume</th>\n",
       "    </tr>\n",
       "  </thead>\n",
       "  <tbody>\n",
       "    <tr>\n",
       "      <th>0</th>\n",
       "      <td>2019-07-15</td>\n",
       "      <td>1146.859985</td>\n",
       "      <td>1150.819946</td>\n",
       "      <td>1139.400024</td>\n",
       "      <td>1150.339966</td>\n",
       "      <td>1150.339966</td>\n",
       "      <td>903800</td>\n",
       "    </tr>\n",
       "    <tr>\n",
       "      <th>1</th>\n",
       "      <td>2019-07-16</td>\n",
       "      <td>1146.000000</td>\n",
       "      <td>1158.579956</td>\n",
       "      <td>1145.000000</td>\n",
       "      <td>1153.579956</td>\n",
       "      <td>1153.579956</td>\n",
       "      <td>1238800</td>\n",
       "    </tr>\n",
       "    <tr>\n",
       "      <th>2</th>\n",
       "      <td>2019-07-17</td>\n",
       "      <td>1150.969971</td>\n",
       "      <td>1158.359985</td>\n",
       "      <td>1145.770020</td>\n",
       "      <td>1146.349976</td>\n",
       "      <td>1146.349976</td>\n",
       "      <td>1170000</td>\n",
       "    </tr>\n",
       "    <tr>\n",
       "      <th>3</th>\n",
       "      <td>2019-07-18</td>\n",
       "      <td>1141.739990</td>\n",
       "      <td>1147.604980</td>\n",
       "      <td>1132.729980</td>\n",
       "      <td>1146.329956</td>\n",
       "      <td>1146.329956</td>\n",
       "      <td>1291300</td>\n",
       "    </tr>\n",
       "    <tr>\n",
       "      <th>4</th>\n",
       "      <td>2019-07-19</td>\n",
       "      <td>1148.189941</td>\n",
       "      <td>1151.140015</td>\n",
       "      <td>1129.619995</td>\n",
       "      <td>1130.099976</td>\n",
       "      <td>1130.099976</td>\n",
       "      <td>1647200</td>\n",
       "    </tr>\n",
       "  </tbody>\n",
       "</table>\n",
       "</div>"
      ],
      "text/plain": [
       "         Date         Open         High          Low        Close  \\\n",
       "0  2019-07-15  1146.859985  1150.819946  1139.400024  1150.339966   \n",
       "1  2019-07-16  1146.000000  1158.579956  1145.000000  1153.579956   \n",
       "2  2019-07-17  1150.969971  1158.359985  1145.770020  1146.349976   \n",
       "3  2019-07-18  1141.739990  1147.604980  1132.729980  1146.329956   \n",
       "4  2019-07-19  1148.189941  1151.140015  1129.619995  1130.099976   \n",
       "\n",
       "      AdjClose   Volume  \n",
       "0  1150.339966   903800  \n",
       "1  1153.579956  1238800  \n",
       "2  1146.349976  1170000  \n",
       "3  1146.329956  1291300  \n",
       "4  1130.099976  1647200  "
      ]
     },
     "execution_count": 12,
     "metadata": {},
     "output_type": "execute_result"
    }
   ],
   "source": [
    "google_df=sqlContext.read.load(google_file,format='com.databricks.spark.csv',header=\"true\"\n",
    "                              , inferSchema='true')\n",
    "google_df.toPandas().head(5)"
   ]
  },
  {
   "cell_type": "markdown",
   "metadata": {},
   "source": [
    "## explore and query data"
   ]
  },
  {
   "cell_type": "code",
   "execution_count": 13,
   "metadata": {},
   "outputs": [
    {
     "name": "stdout",
     "output_type": "stream",
     "text": [
      "+----------+-----------+\n",
      "|      date|      close|\n",
      "+----------+-----------+\n",
      "|2019-07-15|1150.339966|\n",
      "|2019-07-16|1153.579956|\n",
      "|2019-07-17|1146.349976|\n",
      "|2019-07-18|1146.329956|\n",
      "|2019-07-19|1130.099976|\n",
      "|2019-07-22|1138.069946|\n",
      "|2019-07-23|1146.209961|\n",
      "|2019-07-24|1137.810059|\n",
      "|2019-07-25|1132.119995|\n",
      "|2019-07-26|1250.410034|\n",
      "|2019-07-29|1239.410034|\n",
      "|2019-07-30|1225.140015|\n",
      "|2019-07-31|1216.680054|\n",
      "|2019-08-01| 1209.01001|\n",
      "|2019-08-02| 1193.98999|\n",
      "|2019-08-05|1152.319946|\n",
      "|2019-08-06|1169.949951|\n",
      "|2019-08-07| 1173.98999|\n",
      "|2019-08-08|1204.800049|\n",
      "|2019-08-09| 1188.01001|\n",
      "+----------+-----------+\n",
      "only showing top 20 rows\n",
      "\n"
     ]
    }
   ],
   "source": [
    "#to see the columns we can use select method \n",
    "google_df.select(\"date\",\"close\").show()"
   ]
  },
  {
   "cell_type": "code",
   "execution_count": 14,
   "metadata": {},
   "outputs": [
    {
     "name": "stdout",
     "output_type": "stream",
     "text": [
      "+----+-----------+\n",
      "|  yr|      close|\n",
      "+----+-----------+\n",
      "|2019|1150.339966|\n",
      "|2019|1153.579956|\n",
      "|2019|1146.349976|\n",
      "|2019|1146.329956|\n",
      "|2019|1130.099976|\n",
      "|2019|1138.069946|\n",
      "|2019|1146.209961|\n",
      "|2019|1137.810059|\n",
      "|2019|1132.119995|\n",
      "|2019|1250.410034|\n",
      "|2019|1239.410034|\n",
      "|2019|1225.140015|\n",
      "|2019|1216.680054|\n",
      "|2019| 1209.01001|\n",
      "|2019| 1193.98999|\n",
      "|2019|1152.319946|\n",
      "|2019|1169.949951|\n",
      "|2019| 1173.98999|\n",
      "|2019|1204.800049|\n",
      "|2019| 1188.01001|\n",
      "+----+-----------+\n",
      "only showing top 20 rows\n",
      "\n"
     ]
    }
   ],
   "source": [
    "# to perfom dataframe operations we need to import libraryies \n",
    "from pyspark.sql.functions import year, month\n",
    "google_df.select(year(\"date\").alias(\"yr\"),\"close\").show()"
   ]
  },
  {
   "cell_type": "code",
   "execution_count": 15,
   "metadata": {},
   "outputs": [
    {
     "name": "stdout",
     "output_type": "stream",
     "text": [
      "+----+------------------+\n",
      "|  yr|        avg(close)|\n",
      "+----+------------------+\n",
      "|2019|1245.3833654621849|\n",
      "|2020|1362.8286906865671|\n",
      "+----+------------------+\n",
      "\n"
     ]
    }
   ],
   "source": [
    "google_df.select(year(\"date\").alias(\"yr\"),\"close\").groupby(\"yr\").avg(\"close\").show()"
   ]
  },
  {
   "cell_type": "code",
   "execution_count": 16,
   "metadata": {},
   "outputs": [
    {
     "name": "stdout",
     "output_type": "stream",
     "text": [
      "+----+-----+------------------+\n",
      "|year|month|          avg(low)|\n",
      "+----+-----+------------------+\n",
      "|2019|    7|1948.1946176153847|\n",
      "|2019|    8|1778.2340920454546|\n",
      "|2019|    9|     1784.68599235|\n",
      "|2019|   10|1736.6047840869564|\n",
      "|2019|   11|1764.3005004499998|\n",
      "|2019|   12|1773.8466622380954|\n",
      "|2020|    1| 1870.354288809524|\n",
      "|2020|    2|2045.0563194210524|\n",
      "|2020|    3|1825.1590964090908|\n",
      "|2020|    4|2185.9347679523808|\n",
      "|2020|    5|     2364.48549805|\n",
      "|2020|    6| 2579.099553909091|\n",
      "|2020|    7|2976.1799859999996|\n",
      "+----+-----+------------------+\n",
      "\n"
     ]
    }
   ],
   "source": [
    "amazon_df.select(year(\"date\").alias(\"year\"),month(\"date\").alias(\"month\"),\"low\").groupby(\"year\",\"month\").avg(\"low\").sort(\"year\",\"month\").show()\n"
   ]
  },
  {
   "cell_type": "markdown",
   "metadata": {},
   "source": [
    "## spark sql"
   ]
  },
  {
   "cell_type": "code",
   "execution_count": 17,
   "metadata": {},
   "outputs": [],
   "source": [
    "#register temporarity tables \n",
    "amazon_df.registerTempTable(\"amazon_stocks\")"
   ]
  },
  {
   "cell_type": "code",
   "execution_count": 18,
   "metadata": {},
   "outputs": [],
   "source": [
    "google_df.registerTempTable(\"google_stocks\")\n",
    "tesla_df.registerTempTable(\"tesla_stocks\")"
   ]
  },
  {
   "cell_type": "code",
   "execution_count": 19,
   "metadata": {},
   "outputs": [
    {
     "name": "stdout",
     "output_type": "stream",
     "text": [
      "+----------+-----------+-----------+-----------+-----------+-----------+-------+\n",
      "|      Date|       Open|       High|        Low|      Close|   AdjClose| Volume|\n",
      "+----------+-----------+-----------+-----------+-----------+-----------+-------+\n",
      "|2019-07-15|2021.400024|2022.900024|2001.550049| 2020.98999| 2020.98999|2981300|\n",
      "|2019-07-16|2010.579956|2026.319946|2001.219971|2009.900024|2009.900024|2618200|\n",
      "|2019-07-17|2007.050049|     2012.0|1992.030029|1992.030029|1992.030029|2558800|\n",
      "|2019-07-18| 1980.01001|     1987.5|1951.550049|1977.900024|1977.900024|3504300|\n",
      "|2019-07-19|1991.209961|     1996.0| 1962.22998| 1964.52002| 1964.52002|3185600|\n",
      "+----------+-----------+-----------+-----------+-----------+-----------+-------+\n",
      "only showing top 5 rows\n",
      "\n"
     ]
    }
   ],
   "source": [
    "#query this tables using sql context\n",
    "sqlContext.sql(\"SELECT * FROM amazon_stocks\").show(5)"
   ]
  },
  {
   "cell_type": "code",
   "execution_count": 20,
   "metadata": {},
   "outputs": [
    {
     "name": "stdout",
     "output_type": "stream",
     "text": [
      "+----+-----+------------------+\n",
      "|year|month|        avg(Close)|\n",
      "+----+-----+------------------+\n",
      "|2019|   10|1752.3317498695653|\n",
      "|2020|    6|      2613.5454545|\n",
      "|2020|    3|1872.3104358636365|\n",
      "|2019|    8|1793.6027220909093|\n",
      "|2020|    4|2228.7052408571426|\n",
      "+----+-----+------------------+\n",
      "only showing top 5 rows\n",
      "\n"
     ]
    }
   ],
   "source": [
    "sqlContext.sql(\"SELECT year(Date) as year, month(Date) as month, avg(Close) FROM amazon_stocks group by year, month\").show(5)"
   ]
  },
  {
   "cell_type": "markdown",
   "metadata": {},
   "source": [
    "min and max adjusted close price per year for tesla"
   ]
  },
  {
   "cell_type": "code",
   "execution_count": 21,
   "metadata": {},
   "outputs": [
    {
     "name": "stdout",
     "output_type": "stream",
     "text": [
      "+----+-------------+-------------+\n",
      "|year|max(AdjClose)|min(AdjClose)|\n",
      "+----+-------------+-------------+\n",
      "|null|        Close|        Close|\n",
      "|2019|   430.940002|   211.399994|\n",
      "|2020|   994.320007|  1000.900024|\n",
      "+----+-------------+-------------+\n",
      "\n"
     ]
    }
   ],
   "source": [
    "sqlContext.sql(\"SELECT year(Date) as year, max(AdjClose),min(AdjClose) FROM tesla_stocks GROUP BY year\").show()"
   ]
  },
  {
   "cell_type": "code",
   "execution_count": 22,
   "metadata": {},
   "outputs": [],
   "source": [
    "joinclose_df=sqlContext.sql(\"SELECT tesla_stocks.Date, tesla_stocks.Close as tesla,amazon_stocks.Close as amazon , google_stocks.Close as google FROM tesla_stocks JOIN google_stocks ON tesla_stocks.Date=google_stocks.Date JOIN amazon_stocks ON amazon_stocks.Date=tesla_stocks.Date\")"
   ]
  },
  {
   "cell_type": "code",
   "execution_count": 23,
   "metadata": {},
   "outputs": [
    {
     "name": "stdout",
     "output_type": "stream",
     "text": [
      "+----------+----------+-----------+-----------+\n",
      "|      Date|     tesla|     amazon|     google|\n",
      "+----------+----------+-----------+-----------+\n",
      "|2019-07-15|244.860001| 2020.98999|1150.339966|\n",
      "|2019-07-16|247.929993|2009.900024|1153.579956|\n",
      "|2019-07-17|253.350006|1992.030029|1146.349976|\n",
      "|2019-07-18|251.889999|1977.900024|1146.329956|\n",
      "|2019-07-19|254.619995| 1964.52002|1130.099976|\n",
      "|2019-07-22|254.190002|1985.630005|1138.069946|\n",
      "|2019-07-23|254.500000| 1994.48999|1146.209961|\n",
      "|2019-07-24|258.160004|2000.810059|1137.810059|\n",
      "|2019-07-25|225.550003|1973.819946|1132.119995|\n",
      "|2019-07-26|222.250000|1943.050049|1250.410034|\n",
      "|2019-07-29|226.029999|1912.449951|1239.410034|\n",
      "|2019-07-30|232.179993|1898.530029|1225.140015|\n",
      "|2019-07-31|236.649994|1866.780029|1216.680054|\n",
      "|2019-08-01|231.770004|1855.319946| 1209.01001|\n",
      "|2019-08-02|229.229996| 1823.23999| 1193.98999|\n",
      "|2019-08-05|225.779999|1765.130005|1152.319946|\n",
      "|2019-08-06|225.750000|1787.829956|1169.949951|\n",
      "|2019-08-07|225.800003|1793.400024| 1173.98999|\n",
      "|2019-08-08|232.649994|1832.890015|1204.800049|\n",
      "|2019-08-09|233.809998|1807.579956| 1188.01001|\n",
      "+----------+----------+-----------+-----------+\n",
      "only showing top 20 rows\n",
      "\n"
     ]
    }
   ],
   "source": [
    "joinclose_df.show()"
   ]
  },
  {
   "cell_type": "markdown",
   "metadata": {},
   "source": [
    "## save spark dataframes"
   ]
  },
  {
   "cell_type": "code",
   "execution_count": 24,
   "metadata": {},
   "outputs": [],
   "source": [
    "joinclose_df.write.format(\"parquet\").save(\"joinStock.parquet\")"
   ]
  },
  {
   "cell_type": "code",
   "execution_count": 26,
   "metadata": {},
   "outputs": [
    {
     "name": "stdout",
     "output_type": "stream",
     "text": [
      "+----------+----------+-----------+-----------+\n",
      "|      Date|     tesla|     amazon|     google|\n",
      "+----------+----------+-----------+-----------+\n",
      "|2020-01-15|516.789978| 1862.02002|1439.199951|\n",
      "|2020-01-16|492.170013|1877.939941|1451.699951|\n",
      "|2020-01-17|503.160004|1864.719971|1480.390015|\n",
      "|2020-01-21|528.409973|     1892.0|1484.400024|\n",
      "|2020-01-22|559.099976|1887.459961|1485.949951|\n",
      "|2020-01-23|555.599976|1884.579956|1486.650024|\n",
      "|2020-01-24|554.260010|1861.640015|1466.709961|\n",
      "|2020-01-27|539.280029|1828.339966|1433.900024|\n",
      "|2020-01-28|558.080017|    1853.25|1452.560059|\n",
      "|2020-01-29|567.429993|     1858.0|1458.630005|\n",
      "|2020-01-30|618.000000|1870.680054|1455.839966|\n",
      "|2020-01-31|632.520020|2008.719971| 1434.22998|\n",
      "|2020-02-03|673.520020|2004.199951|1485.939941|\n",
      "|2020-02-04|833.880005|2049.669922|1447.069946|\n",
      "|2020-02-05|704.109985|2039.869995| 1448.22998|\n",
      "|2020-02-06|687.000000| 2050.22998| 1476.22998|\n",
      "|2020-02-07|730.000000|2079.280029| 1479.22998|\n",
      "|2020-02-10|752.400024|2133.909912|1508.680054|\n",
      "|2020-02-11|758.000000|2150.800049|1508.790039|\n",
      "|2020-02-12|763.369995|     2160.0| 1518.27002|\n",
      "+----------+----------+-----------+-----------+\n",
      "only showing top 20 rows\n",
      "\n"
     ]
    }
   ],
   "source": [
    "final_df=sqlContext.read.parquet(\"joinStock.parquet\")\n",
    "final_df.show()"
   ]
  },
  {
   "cell_type": "code",
   "execution_count": null,
   "metadata": {},
   "outputs": [],
   "source": []
  }
 ],
 "metadata": {
  "kernelspec": {
   "display_name": "Python 3",
   "language": "python",
   "name": "python3"
  },
  "language_info": {
   "codemirror_mode": {
    "name": "ipython",
    "version": 3
   },
   "file_extension": ".py",
   "mimetype": "text/x-python",
   "name": "python",
   "nbconvert_exporter": "python",
   "pygments_lexer": "ipython3",
   "version": "3.8.4"
  }
 },
 "nbformat": 4,
 "nbformat_minor": 4
}
